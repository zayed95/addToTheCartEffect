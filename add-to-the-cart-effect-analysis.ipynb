{
 "cells": [
  {
   "cell_type": "markdown",
   "id": "30f3a759",
   "metadata": {},
   "source": [
    "Importing important libraries"
   ]
  },
  {
   "cell_type": "code",
   "execution_count": 85,
   "id": "b506985b",
   "metadata": {},
   "outputs": [],
   "source": [
    "import pandas as pd\n",
    "import numpy as np\n",
    "import matplotlib.pyplot as plt\n",
    "import seaborn as sns\n",
    "import re\n",
    "import plotly.express as px\n"
   ]
  },
  {
   "cell_type": "code",
   "execution_count": 86,
   "id": "fc8df294",
   "metadata": {},
   "outputs": [
    {
     "data": {
      "text/html": [
       "<div>\n",
       "<style scoped>\n",
       "    .dataframe tbody tr th:only-of-type {\n",
       "        vertical-align: middle;\n",
       "    }\n",
       "\n",
       "    .dataframe tbody tr th {\n",
       "        vertical-align: top;\n",
       "    }\n",
       "\n",
       "    .dataframe thead th {\n",
       "        text-align: right;\n",
       "    }\n",
       "</style>\n",
       "<table border=\"1\" class=\"dataframe\">\n",
       "  <thead>\n",
       "    <tr style=\"text-align: right;\">\n",
       "      <th></th>\n",
       "      <th>What’s your age group?</th>\n",
       "      <th>What’s your gender?</th>\n",
       "      <th>What’s your academic year?</th>\n",
       "      <th>What’s your major?</th>\n",
       "      <th>Where do you live?</th>\n",
       "      <th>How much time do you spend on social media daily?</th>\n",
       "      <th>Which platform do you use the most?</th>\n",
       "      <th>How often do you see ads or promotional content?</th>\n",
       "      <th>How do you prefer to shop?</th>\n",
       "      <th>What influences your buying decisions the most?</th>\n",
       "      <th>...</th>\n",
       "      <th>How much do you think brands control your brain through social media marketing? (Because let’s be real, they’re basically puppet masters.)</th>\n",
       "      <th>How often do you feel misled by social media advertisements?</th>\n",
       "      <th>Do you trust influencers’ recommendations?</th>\n",
       "      <th>If yes, name an influencer that you trust. (because we know you have favorites.) \\nIf no, write n/a.</th>\n",
       "      <th>What category do this influencer promote the most?</th>\n",
       "      <th>What factors make you trust a brand more on social media?</th>\n",
       "      <th>Do you think social media marketing has improved your shopping experience?</th>\n",
       "      <th>Name a brand you think is killing it on social media.</th>\n",
       "      <th>In your opinion, what makes some brands better at marketing than others?</th>\n",
       "      <th>Any final thoughts on how social media influences your decisions? (we’re all ears.)</th>\n",
       "    </tr>\n",
       "  </thead>\n",
       "  <tbody>\n",
       "    <tr>\n",
       "      <th>0</th>\n",
       "      <td>24+ (wise elder of the group)</td>\n",
       "      <td>Female</td>\n",
       "      <td>Graduate (you’ve leveled up—congrats!)</td>\n",
       "      <td>Medical</td>\n",
       "      <td>Alexandria</td>\n",
       "      <td>1-3 hours (casual scroller)</td>\n",
       "      <td>YouTube</td>\n",
       "      <td>2</td>\n",
       "      <td>Both equally (you’re a balanced king/queen)</td>\n",
       "      <td>Influencer recommendations (they’re so convinc...</td>\n",
       "      <td>...</td>\n",
       "      <td>3</td>\n",
       "      <td>Often (you’ve been burned before)</td>\n",
       "      <td>Only certain influencers (you’re picky, and th...</td>\n",
       "      <td>ahmed sa3d</td>\n",
       "      <td>Food (foodie dreams)</td>\n",
       "      <td>Real customer reviews;Transparency;Less aggres...</td>\n",
       "      <td>No (it’s just more noise)</td>\n",
       "      <td>Emma scarf</td>\n",
       "      <td>Trustworthy influencers (they feel authentic);...</td>\n",
       "      <td>NaN</td>\n",
       "    </tr>\n",
       "    <tr>\n",
       "      <th>1</th>\n",
       "      <td>21-23 (adulting, but barely)</td>\n",
       "      <td>Male</td>\n",
       "      <td>Senior (counting down the days to freedom)</td>\n",
       "      <td>Computer science</td>\n",
       "      <td>Alexandria</td>\n",
       "      <td>3-5 hours (professional scroller)</td>\n",
       "      <td>TikTok</td>\n",
       "      <td>3</td>\n",
       "      <td>In-store (for the thrill of touching things)</td>\n",
       "      <td>Brand posts (they’re just so aesthetic)</td>\n",
       "      <td>...</td>\n",
       "      <td>2</td>\n",
       "      <td>Sometimes (they’re sneaky, huh?)</td>\n",
       "      <td>No</td>\n",
       "      <td>NaN</td>\n",
       "      <td>Fashion (drip or drown)</td>\n",
       "      <td>Real customer reviews</td>\n",
       "      <td>Yes (it’s so convenient!)</td>\n",
       "      <td>..</td>\n",
       "      <td>Strong customer service (they actually care)</td>\n",
       "      <td>NaN</td>\n",
       "    </tr>\n",
       "    <tr>\n",
       "      <th>2</th>\n",
       "      <td>21-23 (adulting, but barely)</td>\n",
       "      <td>Male</td>\n",
       "      <td>Senior (counting down the days to freedom)</td>\n",
       "      <td>Computer science</td>\n",
       "      <td>Alexandria</td>\n",
       "      <td>1-3 hours (casual scroller)</td>\n",
       "      <td>TikTok</td>\n",
       "      <td>3</td>\n",
       "      <td>Both equally (you’re a balanced king/queen)</td>\n",
       "      <td>User reviews (gotta trust the people)</td>\n",
       "      <td>...</td>\n",
       "      <td>2</td>\n",
       "      <td>Sometimes (they’re sneaky, huh?)</td>\n",
       "      <td>No</td>\n",
       "      <td>NaN</td>\n",
       "      <td>N</td>\n",
       "      <td>Real customer reviews</td>\n",
       "      <td>No (it’s just more noise)</td>\n",
       "      <td>B laban</td>\n",
       "      <td>Quality of ads (they’re just so good)</td>\n",
       "      <td>NaN</td>\n",
       "    </tr>\n",
       "    <tr>\n",
       "      <th>3</th>\n",
       "      <td>Under 18 (how are you even here?)</td>\n",
       "      <td>Male</td>\n",
       "      <td>Junior (starting to feel the burnout)</td>\n",
       "      <td>Computer science</td>\n",
       "      <td>Alexandria</td>\n",
       "      <td>3-5 hours (professional scroller)</td>\n",
       "      <td>TikTok</td>\n",
       "      <td>4</td>\n",
       "      <td>In-store (for the thrill of touching things)</td>\n",
       "      <td>Influencer recommendations (they’re so convinc...</td>\n",
       "      <td>...</td>\n",
       "      <td>3</td>\n",
       "      <td>Often (you’ve been burned before)</td>\n",
       "      <td>Only certain influencers (you’re picky, and th...</td>\n",
       "      <td>mon3sh</td>\n",
       "      <td>Food (foodie dreams)</td>\n",
       "      <td>Real customer reviews;Less aggressive ads</td>\n",
       "      <td>No (it’s just more noise)</td>\n",
       "      <td>blaban</td>\n",
       "      <td>Quality of ads (they’re just so good);Strong c...</td>\n",
       "      <td>NaN</td>\n",
       "    </tr>\n",
       "    <tr>\n",
       "      <th>4</th>\n",
       "      <td>21-23 (adulting, but barely)</td>\n",
       "      <td>Male</td>\n",
       "      <td>Sophomore (fake it till you make it, right?)</td>\n",
       "      <td>Computer science</td>\n",
       "      <td>Alexandria</td>\n",
       "      <td>1-3 hours (casual scroller)</td>\n",
       "      <td>TikTok</td>\n",
       "      <td>3</td>\n",
       "      <td>In-store (for the thrill of touching things)</td>\n",
       "      <td>User reviews (gotta trust the people)</td>\n",
       "      <td>...</td>\n",
       "      <td>3</td>\n",
       "      <td>Sometimes (they’re sneaky, huh?)</td>\n",
       "      <td>No</td>\n",
       "      <td>NaN</td>\n",
       "      <td>Tech (gadgets galore)</td>\n",
       "      <td>Less aggressive ads</td>\n",
       "      <td>No (it’s just more noise)</td>\n",
       "      <td>Golar</td>\n",
       "      <td>Trustworthy influencers (they feel authentic)</td>\n",
       "      <td>No thanks</td>\n",
       "    </tr>\n",
       "  </tbody>\n",
       "</table>\n",
       "<p>5 rows × 30 columns</p>\n",
       "</div>"
      ],
      "text/plain": [
       "              What’s your age group? What’s your gender?  \\\n",
       "0      24+ (wise elder of the group)              Female   \n",
       "1       21-23 (adulting, but barely)                Male   \n",
       "2       21-23 (adulting, but barely)                Male   \n",
       "3  Under 18 (how are you even here?)                Male   \n",
       "4       21-23 (adulting, but barely)                Male   \n",
       "\n",
       "                     What’s your academic year? What’s your major?  \\\n",
       "0        Graduate (you’ve leveled up—congrats!)            Medical   \n",
       "1    Senior (counting down the days to freedom)   Computer science   \n",
       "2    Senior (counting down the days to freedom)   Computer science   \n",
       "3         Junior (starting to feel the burnout)   Computer science   \n",
       "4  Sophomore (fake it till you make it, right?)   Computer science   \n",
       "\n",
       "  Where do you live? How much time do you spend on social media daily?  \\\n",
       "0         Alexandria                       1-3 hours (casual scroller)   \n",
       "1         Alexandria                 3-5 hours (professional scroller)   \n",
       "2         Alexandria                       1-3 hours (casual scroller)   \n",
       "3         Alexandria                 3-5 hours (professional scroller)   \n",
       "4         Alexandria                       1-3 hours (casual scroller)   \n",
       "\n",
       "  Which platform do you use the most?  \\\n",
       "0                             YouTube   \n",
       "1                              TikTok   \n",
       "2                              TikTok   \n",
       "3                              TikTok   \n",
       "4                              TikTok   \n",
       "\n",
       "   How often do you see ads or promotional content?  \\\n",
       "0                                                 2   \n",
       "1                                                 3   \n",
       "2                                                 3   \n",
       "3                                                 4   \n",
       "4                                                 3   \n",
       "\n",
       "                     How do you prefer to shop?  \\\n",
       "0   Both equally (you’re a balanced king/queen)   \n",
       "1  In-store (for the thrill of touching things)   \n",
       "2   Both equally (you’re a balanced king/queen)   \n",
       "3  In-store (for the thrill of touching things)   \n",
       "4  In-store (for the thrill of touching things)   \n",
       "\n",
       "     What influences your buying decisions the most?  ...  \\\n",
       "0  Influencer recommendations (they’re so convinc...  ...   \n",
       "1            Brand posts (they’re just so aesthetic)  ...   \n",
       "2              User reviews (gotta trust the people)  ...   \n",
       "3  Influencer recommendations (they’re so convinc...  ...   \n",
       "4              User reviews (gotta trust the people)  ...   \n",
       "\n",
       "  How much do you think brands control your brain through social media marketing? (Because let’s be real, they’re basically puppet masters.)  \\\n",
       "0                                                  3                                                                                           \n",
       "1                                                  2                                                                                           \n",
       "2                                                  2                                                                                           \n",
       "3                                                  3                                                                                           \n",
       "4                                                  3                                                                                           \n",
       "\n",
       "  How often do you feel misled by social media advertisements?  \\\n",
       "0                  Often (you’ve been burned before)             \n",
       "1                   Sometimes (they’re sneaky, huh?)             \n",
       "2                   Sometimes (they’re sneaky, huh?)             \n",
       "3                  Often (you’ve been burned before)             \n",
       "4                   Sometimes (they’re sneaky, huh?)             \n",
       "\n",
       "          Do you trust influencers’ recommendations?  \\\n",
       "0  Only certain influencers (you’re picky, and th...   \n",
       "1                                                 No   \n",
       "2                                                 No   \n",
       "3  Only certain influencers (you’re picky, and th...   \n",
       "4                                                 No   \n",
       "\n",
       "  If yes, name an influencer that you trust. (because we know you have favorites.) \\nIf no, write n/a.  \\\n",
       "0                                         ahmed sa3d                                                     \n",
       "1                                                NaN                                                     \n",
       "2                                                NaN                                                     \n",
       "3                                             mon3sh                                                     \n",
       "4                                                NaN                                                     \n",
       "\n",
       "  What category do this influencer promote the most?  \\\n",
       "0                               Food (foodie dreams)   \n",
       "1                            Fashion (drip or drown)   \n",
       "2                                                  N   \n",
       "3                               Food (foodie dreams)   \n",
       "4                              Tech (gadgets galore)   \n",
       "\n",
       "  What factors make you trust a brand more on social media?  \\\n",
       "0  Real customer reviews;Transparency;Less aggres...          \n",
       "1                              Real customer reviews          \n",
       "2                              Real customer reviews          \n",
       "3          Real customer reviews;Less aggressive ads          \n",
       "4                                Less aggressive ads          \n",
       "\n",
       "  Do you think social media marketing has improved your shopping experience?  \\\n",
       "0                          No (it’s just more noise)                           \n",
       "1                          Yes (it’s so convenient!)                           \n",
       "2                          No (it’s just more noise)                           \n",
       "3                          No (it’s just more noise)                           \n",
       "4                          No (it’s just more noise)                           \n",
       "\n",
       "   Name a brand you think is killing it on social media.  \\\n",
       "0                                         Emma scarf       \n",
       "1                                                 ..       \n",
       "2                                           B laban        \n",
       "3                                             blaban       \n",
       "4                                              Golar       \n",
       "\n",
       "  In your opinion, what makes some brands better at marketing than others?  \\\n",
       "0  Trustworthy influencers (they feel authentic);...                         \n",
       "1       Strong customer service (they actually care)                         \n",
       "2              Quality of ads (they’re just so good)                         \n",
       "3  Quality of ads (they’re just so good);Strong c...                         \n",
       "4      Trustworthy influencers (they feel authentic)                         \n",
       "\n",
       "  Any final thoughts on how social media influences your decisions? (we’re all ears.)  \n",
       "0                                                NaN                                   \n",
       "1                                                NaN                                   \n",
       "2                                                NaN                                   \n",
       "3                                                NaN                                   \n",
       "4                                         No thanks                                    \n",
       "\n",
       "[5 rows x 30 columns]"
      ]
     },
     "execution_count": 86,
     "metadata": {},
     "output_type": "execute_result"
    }
   ],
   "source": [
    "df = pd.read_csv(\"survey_After.csv\")\n",
    "df.head()"
   ]
  },
  {
   "cell_type": "markdown",
   "id": "a601e67c",
   "metadata": {},
   "source": [
    "### Data Cleaning ###"
   ]
  },
  {
   "cell_type": "code",
   "execution_count": 87,
   "id": "9e6f1532",
   "metadata": {},
   "outputs": [
    {
     "name": "stderr",
     "output_type": "stream",
     "text": [
      "C:\\Users\\pc\\AppData\\Local\\Temp\\ipykernel_24512\\3234186778.py:1: FutureWarning:\n",
      "\n",
      "DataFrame.applymap has been deprecated. Use DataFrame.map instead.\n",
      "\n"
     ]
    },
    {
     "data": {
      "text/html": [
       "<div>\n",
       "<style scoped>\n",
       "    .dataframe tbody tr th:only-of-type {\n",
       "        vertical-align: middle;\n",
       "    }\n",
       "\n",
       "    .dataframe tbody tr th {\n",
       "        vertical-align: top;\n",
       "    }\n",
       "\n",
       "    .dataframe thead th {\n",
       "        text-align: right;\n",
       "    }\n",
       "</style>\n",
       "<table border=\"1\" class=\"dataframe\">\n",
       "  <thead>\n",
       "    <tr style=\"text-align: right;\">\n",
       "      <th></th>\n",
       "      <th>What’s your age group?</th>\n",
       "      <th>What’s your gender?</th>\n",
       "      <th>What’s your academic year?</th>\n",
       "      <th>What’s your major?</th>\n",
       "      <th>Where do you live?</th>\n",
       "      <th>How much time do you spend on social media daily?</th>\n",
       "      <th>Which platform do you use the most?</th>\n",
       "      <th>How often do you see ads or promotional content?</th>\n",
       "      <th>How do you prefer to shop?</th>\n",
       "      <th>What influences your buying decisions the most?</th>\n",
       "      <th>...</th>\n",
       "      <th>How much do you think brands control your brain through social media marketing? (Because let’s be real, they’re basically puppet masters.)</th>\n",
       "      <th>How often do you feel misled by social media advertisements?</th>\n",
       "      <th>Do you trust influencers’ recommendations?</th>\n",
       "      <th>If yes, name an influencer that you trust. (because we know you have favorites.) \\nIf no, write n/a.</th>\n",
       "      <th>What category do this influencer promote the most?</th>\n",
       "      <th>What factors make you trust a brand more on social media?</th>\n",
       "      <th>Do you think social media marketing has improved your shopping experience?</th>\n",
       "      <th>Name a brand you think is killing it on social media.</th>\n",
       "      <th>In your opinion, what makes some brands better at marketing than others?</th>\n",
       "      <th>Any final thoughts on how social media influences your decisions? (we’re all ears.)</th>\n",
       "    </tr>\n",
       "  </thead>\n",
       "  <tbody>\n",
       "    <tr>\n",
       "      <th>0</th>\n",
       "      <td>24+</td>\n",
       "      <td>Female</td>\n",
       "      <td>Graduate</td>\n",
       "      <td>Medical</td>\n",
       "      <td>Alexandria</td>\n",
       "      <td>1-3 hours</td>\n",
       "      <td>YouTube</td>\n",
       "      <td>2</td>\n",
       "      <td>Both equally</td>\n",
       "      <td>Influencer recommendations ;Brand posts</td>\n",
       "      <td>...</td>\n",
       "      <td>3</td>\n",
       "      <td>Often</td>\n",
       "      <td>Only certain influencers</td>\n",
       "      <td>ahmed sa3d</td>\n",
       "      <td>Food</td>\n",
       "      <td>Real customer reviews;Transparency;Less aggres...</td>\n",
       "      <td>No</td>\n",
       "      <td>Emma scarf</td>\n",
       "      <td>Trustworthy influencers ;Strong customer servi...</td>\n",
       "      <td>NaN</td>\n",
       "    </tr>\n",
       "    <tr>\n",
       "      <th>1</th>\n",
       "      <td>21-23</td>\n",
       "      <td>Male</td>\n",
       "      <td>Senior</td>\n",
       "      <td>Computer science</td>\n",
       "      <td>Alexandria</td>\n",
       "      <td>3-5 hours</td>\n",
       "      <td>TikTok</td>\n",
       "      <td>3</td>\n",
       "      <td>In-store</td>\n",
       "      <td>Brand posts</td>\n",
       "      <td>...</td>\n",
       "      <td>2</td>\n",
       "      <td>Sometimes</td>\n",
       "      <td>No</td>\n",
       "      <td>NaN</td>\n",
       "      <td>Fashion</td>\n",
       "      <td>Real customer reviews</td>\n",
       "      <td>Yes</td>\n",
       "      <td>..</td>\n",
       "      <td>Strong customer service</td>\n",
       "      <td>NaN</td>\n",
       "    </tr>\n",
       "    <tr>\n",
       "      <th>2</th>\n",
       "      <td>21-23</td>\n",
       "      <td>Male</td>\n",
       "      <td>Senior</td>\n",
       "      <td>Computer science</td>\n",
       "      <td>Alexandria</td>\n",
       "      <td>1-3 hours</td>\n",
       "      <td>TikTok</td>\n",
       "      <td>3</td>\n",
       "      <td>Both equally</td>\n",
       "      <td>User reviews</td>\n",
       "      <td>...</td>\n",
       "      <td>2</td>\n",
       "      <td>Sometimes</td>\n",
       "      <td>No</td>\n",
       "      <td>NaN</td>\n",
       "      <td>N</td>\n",
       "      <td>Real customer reviews</td>\n",
       "      <td>No</td>\n",
       "      <td>B laban</td>\n",
       "      <td>Quality of ads</td>\n",
       "      <td>NaN</td>\n",
       "    </tr>\n",
       "    <tr>\n",
       "      <th>3</th>\n",
       "      <td>Under 18</td>\n",
       "      <td>Male</td>\n",
       "      <td>Junior</td>\n",
       "      <td>Computer science</td>\n",
       "      <td>Alexandria</td>\n",
       "      <td>3-5 hours</td>\n",
       "      <td>TikTok</td>\n",
       "      <td>4</td>\n",
       "      <td>In-store</td>\n",
       "      <td>Influencer recommendations ;User reviews ;Vira...</td>\n",
       "      <td>...</td>\n",
       "      <td>3</td>\n",
       "      <td>Often</td>\n",
       "      <td>Only certain influencers</td>\n",
       "      <td>mon3sh</td>\n",
       "      <td>Food</td>\n",
       "      <td>Real customer reviews;Less aggressive ads</td>\n",
       "      <td>No</td>\n",
       "      <td>blaban</td>\n",
       "      <td>Quality of ads ;Strong customer service ;Consi...</td>\n",
       "      <td>NaN</td>\n",
       "    </tr>\n",
       "    <tr>\n",
       "      <th>4</th>\n",
       "      <td>21-23</td>\n",
       "      <td>Male</td>\n",
       "      <td>Sophomore</td>\n",
       "      <td>Computer science</td>\n",
       "      <td>Alexandria</td>\n",
       "      <td>1-3 hours</td>\n",
       "      <td>TikTok</td>\n",
       "      <td>3</td>\n",
       "      <td>In-store</td>\n",
       "      <td>User reviews</td>\n",
       "      <td>...</td>\n",
       "      <td>3</td>\n",
       "      <td>Sometimes</td>\n",
       "      <td>No</td>\n",
       "      <td>NaN</td>\n",
       "      <td>Tech</td>\n",
       "      <td>Less aggressive ads</td>\n",
       "      <td>No</td>\n",
       "      <td>Golar</td>\n",
       "      <td>Trustworthy influencers</td>\n",
       "      <td>No thanks</td>\n",
       "    </tr>\n",
       "  </tbody>\n",
       "</table>\n",
       "<p>5 rows × 30 columns</p>\n",
       "</div>"
      ],
      "text/plain": [
       "  What’s your age group? What’s your gender? What’s your academic year?  \\\n",
       "0                   24+               Female                  Graduate    \n",
       "1                 21-23                 Male                    Senior    \n",
       "2                 21-23                 Male                    Senior    \n",
       "3              Under 18                 Male                    Junior    \n",
       "4                 21-23                 Male                 Sophomore    \n",
       "\n",
       "  What’s your major? Where do you live?  \\\n",
       "0            Medical         Alexandria   \n",
       "1   Computer science         Alexandria   \n",
       "2   Computer science         Alexandria   \n",
       "3   Computer science         Alexandria   \n",
       "4   Computer science         Alexandria   \n",
       "\n",
       "  How much time do you spend on social media daily?  \\\n",
       "0                                        1-3 hours    \n",
       "1                                        3-5 hours    \n",
       "2                                        1-3 hours    \n",
       "3                                        3-5 hours    \n",
       "4                                        1-3 hours    \n",
       "\n",
       "  Which platform do you use the most?  \\\n",
       "0                             YouTube   \n",
       "1                              TikTok   \n",
       "2                              TikTok   \n",
       "3                              TikTok   \n",
       "4                              TikTok   \n",
       "\n",
       "  How often do you see ads or promotional content? How do you prefer to shop?  \\\n",
       "0                                                2              Both equally    \n",
       "1                                                3                  In-store    \n",
       "2                                                3              Both equally    \n",
       "3                                                4                  In-store    \n",
       "4                                                3                  In-store    \n",
       "\n",
       "     What influences your buying decisions the most?  ...  \\\n",
       "0           Influencer recommendations ;Brand posts   ...   \n",
       "1                                       Brand posts   ...   \n",
       "2                                      User reviews   ...   \n",
       "3  Influencer recommendations ;User reviews ;Vira...  ...   \n",
       "4                                      User reviews   ...   \n",
       "\n",
       "  How much do you think brands control your brain through social media marketing? (Because let’s be real, they’re basically puppet masters.)  \\\n",
       "0                                                  3                                                                                           \n",
       "1                                                  2                                                                                           \n",
       "2                                                  2                                                                                           \n",
       "3                                                  3                                                                                           \n",
       "4                                                  3                                                                                           \n",
       "\n",
       "  How often do you feel misled by social media advertisements?  \\\n",
       "0                                             Often              \n",
       "1                                         Sometimes              \n",
       "2                                         Sometimes              \n",
       "3                                             Often              \n",
       "4                                         Sometimes              \n",
       "\n",
       "  Do you trust influencers’ recommendations?  \\\n",
       "0                  Only certain influencers    \n",
       "1                                         No   \n",
       "2                                         No   \n",
       "3                  Only certain influencers    \n",
       "4                                         No   \n",
       "\n",
       "  If yes, name an influencer that you trust. (because we know you have favorites.) \\nIf no, write n/a.  \\\n",
       "0                                         ahmed sa3d                                                     \n",
       "1                                                NaN                                                     \n",
       "2                                                NaN                                                     \n",
       "3                                             mon3sh                                                     \n",
       "4                                                NaN                                                     \n",
       "\n",
       "  What category do this influencer promote the most?  \\\n",
       "0                                              Food    \n",
       "1                                           Fashion    \n",
       "2                                                  N   \n",
       "3                                              Food    \n",
       "4                                              Tech    \n",
       "\n",
       "  What factors make you trust a brand more on social media?  \\\n",
       "0  Real customer reviews;Transparency;Less aggres...          \n",
       "1                              Real customer reviews          \n",
       "2                              Real customer reviews          \n",
       "3          Real customer reviews;Less aggressive ads          \n",
       "4                                Less aggressive ads          \n",
       "\n",
       "  Do you think social media marketing has improved your shopping experience?  \\\n",
       "0                                                No                            \n",
       "1                                               Yes                            \n",
       "2                                                No                            \n",
       "3                                                No                            \n",
       "4                                                No                            \n",
       "\n",
       "  Name a brand you think is killing it on social media.  \\\n",
       "0                                         Emma scarf      \n",
       "1                                                 ..      \n",
       "2                                           B laban       \n",
       "3                                             blaban      \n",
       "4                                              Golar      \n",
       "\n",
       "  In your opinion, what makes some brands better at marketing than others?  \\\n",
       "0  Trustworthy influencers ;Strong customer servi...                         \n",
       "1                           Strong customer service                          \n",
       "2                                    Quality of ads                          \n",
       "3  Quality of ads ;Strong customer service ;Consi...                         \n",
       "4                           Trustworthy influencers                          \n",
       "\n",
       "  Any final thoughts on how social media influences your decisions? (we’re all ears.)  \n",
       "0                                                NaN                                   \n",
       "1                                                NaN                                   \n",
       "2                                                NaN                                   \n",
       "3                                                NaN                                   \n",
       "4                                         No thanks                                    \n",
       "\n",
       "[5 rows x 30 columns]"
      ]
     },
     "execution_count": 87,
     "metadata": {},
     "output_type": "execute_result"
    }
   ],
   "source": [
    "df = df.applymap(lambda x: re.sub(r'\\(.*?\\)', '', str(x)) if pd.notna(x) else x)\n",
    "df.head()"
   ]
  },
  {
   "cell_type": "code",
   "execution_count": 88,
   "id": "7e61fa2e",
   "metadata": {},
   "outputs": [
    {
     "data": {
      "text/plain": [
       "Index(['What’s your age group?', 'What’s your gender?',\n",
       "       'What’s your academic year?', 'What’s your major?',\n",
       "       'Where do you live?',\n",
       "       'How much time do you spend on social media daily?',\n",
       "       'Which platform do you use the most?',\n",
       "       'How often do you see ads or promotional content?',\n",
       "       'How do you prefer to shop?',\n",
       "       'What influences your buying decisions the most?',\n",
       "       'Have you ever bought something after seeing it on social media?',\n",
       "       'If yes, what made you buy it?',\n",
       "       'On average, how much do you spend on online shopping per month',\n",
       "       'How often do you make online purchases?',\n",
       "       'When was your last online purchase?',\n",
       "       'How do you usually verify a product before buying?',\n",
       "       'When making a purchase, which factor influences you more?',\n",
       "       'How much do social media promotions affect your trust in a brand?',\n",
       "       'you ever made an unplanned purchase because of social media?',\n",
       "       'If yes, what triggered it?',\n",
       "       'How much do you think brands control your brain through social media marketing? (Because let’s be real, they’re basically puppet masters.)',\n",
       "       'How often do you feel misled by social media advertisements?',\n",
       "       'Do you trust influencers’ recommendations?',\n",
       "       'If yes, name an influencer that you trust. (because we know you have favorites.) \\nIf no, write n/a.',\n",
       "       'What category do this influencer promote the most?',\n",
       "       'What factors make you trust a brand more on social media?',\n",
       "       'Do you think social media marketing has improved your shopping experience?',\n",
       "       'Name a brand you think is killing it on social media.',\n",
       "       'In your opinion, what makes some brands better at marketing than others?',\n",
       "       'Any final thoughts on how social media influences your decisions? (we’re all ears.)'],\n",
       "      dtype='object')"
      ]
     },
     "execution_count": 88,
     "metadata": {},
     "output_type": "execute_result"
    }
   ],
   "source": [
    "df.columns"
   ]
  },
  {
   "cell_type": "code",
   "execution_count": 89,
   "id": "def3d3e6",
   "metadata": {},
   "outputs": [
    {
     "data": {
      "text/html": [
       "<div>\n",
       "<style scoped>\n",
       "    .dataframe tbody tr th:only-of-type {\n",
       "        vertical-align: middle;\n",
       "    }\n",
       "\n",
       "    .dataframe tbody tr th {\n",
       "        vertical-align: top;\n",
       "    }\n",
       "\n",
       "    .dataframe thead th {\n",
       "        text-align: right;\n",
       "    }\n",
       "</style>\n",
       "<table border=\"1\" class=\"dataframe\">\n",
       "  <thead>\n",
       "    <tr style=\"text-align: right;\">\n",
       "      <th></th>\n",
       "      <th>Age Group</th>\n",
       "      <th>Gender</th>\n",
       "      <th>Academic Year</th>\n",
       "      <th>Major</th>\n",
       "      <th>City</th>\n",
       "      <th>Time Spent Daily</th>\n",
       "      <th>Platform</th>\n",
       "      <th>AdsFrequency</th>\n",
       "      <th>ShoppingPrefrence</th>\n",
       "      <th>ShoppingInfluncedBy</th>\n",
       "      <th>...</th>\n",
       "      <th>BrandsEffectOnBrain</th>\n",
       "      <th>AdsMistrust</th>\n",
       "      <th>InfluncersTrust</th>\n",
       "      <th>TrustedInfluncer</th>\n",
       "      <th>InfluncerField</th>\n",
       "      <th>BrandTrustGainingFactors</th>\n",
       "      <th>ImprovedExperience</th>\n",
       "      <th>Brand</th>\n",
       "      <th>MarketingQualityFactors</th>\n",
       "      <th>Thoughts</th>\n",
       "    </tr>\n",
       "  </thead>\n",
       "  <tbody>\n",
       "    <tr>\n",
       "      <th>0</th>\n",
       "      <td>24+</td>\n",
       "      <td>Female</td>\n",
       "      <td>Graduate</td>\n",
       "      <td>Medical</td>\n",
       "      <td>Alexandria</td>\n",
       "      <td>1-3 hours</td>\n",
       "      <td>YouTube</td>\n",
       "      <td>2</td>\n",
       "      <td>Both equally</td>\n",
       "      <td>Influencer recommendations ;Brand posts</td>\n",
       "      <td>...</td>\n",
       "      <td>3</td>\n",
       "      <td>Often</td>\n",
       "      <td>Only certain influencers</td>\n",
       "      <td>ahmed sa3d</td>\n",
       "      <td>Food</td>\n",
       "      <td>Real customer reviews;Transparency;Less aggres...</td>\n",
       "      <td>No</td>\n",
       "      <td>Emma scarf</td>\n",
       "      <td>Trustworthy influencers ;Strong customer servi...</td>\n",
       "      <td>NaN</td>\n",
       "    </tr>\n",
       "    <tr>\n",
       "      <th>1</th>\n",
       "      <td>21-23</td>\n",
       "      <td>Male</td>\n",
       "      <td>Senior</td>\n",
       "      <td>Computer science</td>\n",
       "      <td>Alexandria</td>\n",
       "      <td>3-5 hours</td>\n",
       "      <td>TikTok</td>\n",
       "      <td>3</td>\n",
       "      <td>In-store</td>\n",
       "      <td>Brand posts</td>\n",
       "      <td>...</td>\n",
       "      <td>2</td>\n",
       "      <td>Sometimes</td>\n",
       "      <td>No</td>\n",
       "      <td>NaN</td>\n",
       "      <td>Fashion</td>\n",
       "      <td>Real customer reviews</td>\n",
       "      <td>Yes</td>\n",
       "      <td>..</td>\n",
       "      <td>Strong customer service</td>\n",
       "      <td>NaN</td>\n",
       "    </tr>\n",
       "    <tr>\n",
       "      <th>2</th>\n",
       "      <td>21-23</td>\n",
       "      <td>Male</td>\n",
       "      <td>Senior</td>\n",
       "      <td>Computer science</td>\n",
       "      <td>Alexandria</td>\n",
       "      <td>1-3 hours</td>\n",
       "      <td>TikTok</td>\n",
       "      <td>3</td>\n",
       "      <td>Both equally</td>\n",
       "      <td>User reviews</td>\n",
       "      <td>...</td>\n",
       "      <td>2</td>\n",
       "      <td>Sometimes</td>\n",
       "      <td>No</td>\n",
       "      <td>NaN</td>\n",
       "      <td>N</td>\n",
       "      <td>Real customer reviews</td>\n",
       "      <td>No</td>\n",
       "      <td>B laban</td>\n",
       "      <td>Quality of ads</td>\n",
       "      <td>NaN</td>\n",
       "    </tr>\n",
       "    <tr>\n",
       "      <th>3</th>\n",
       "      <td>Under 18</td>\n",
       "      <td>Male</td>\n",
       "      <td>Junior</td>\n",
       "      <td>Computer science</td>\n",
       "      <td>Alexandria</td>\n",
       "      <td>3-5 hours</td>\n",
       "      <td>TikTok</td>\n",
       "      <td>4</td>\n",
       "      <td>In-store</td>\n",
       "      <td>Influencer recommendations ;User reviews ;Vira...</td>\n",
       "      <td>...</td>\n",
       "      <td>3</td>\n",
       "      <td>Often</td>\n",
       "      <td>Only certain influencers</td>\n",
       "      <td>mon3sh</td>\n",
       "      <td>Food</td>\n",
       "      <td>Real customer reviews;Less aggressive ads</td>\n",
       "      <td>No</td>\n",
       "      <td>blaban</td>\n",
       "      <td>Quality of ads ;Strong customer service ;Consi...</td>\n",
       "      <td>NaN</td>\n",
       "    </tr>\n",
       "    <tr>\n",
       "      <th>4</th>\n",
       "      <td>21-23</td>\n",
       "      <td>Male</td>\n",
       "      <td>Sophomore</td>\n",
       "      <td>Computer science</td>\n",
       "      <td>Alexandria</td>\n",
       "      <td>1-3 hours</td>\n",
       "      <td>TikTok</td>\n",
       "      <td>3</td>\n",
       "      <td>In-store</td>\n",
       "      <td>User reviews</td>\n",
       "      <td>...</td>\n",
       "      <td>3</td>\n",
       "      <td>Sometimes</td>\n",
       "      <td>No</td>\n",
       "      <td>NaN</td>\n",
       "      <td>Tech</td>\n",
       "      <td>Less aggressive ads</td>\n",
       "      <td>No</td>\n",
       "      <td>Golar</td>\n",
       "      <td>Trustworthy influencers</td>\n",
       "      <td>No thanks</td>\n",
       "    </tr>\n",
       "  </tbody>\n",
       "</table>\n",
       "<p>5 rows × 30 columns</p>\n",
       "</div>"
      ],
      "text/plain": [
       "   Age Group  Gender Academic Year             Major        City  \\\n",
       "0       24+   Female     Graduate            Medical  Alexandria   \n",
       "1     21-23     Male       Senior   Computer science  Alexandria   \n",
       "2     21-23     Male       Senior   Computer science  Alexandria   \n",
       "3  Under 18     Male       Junior   Computer science  Alexandria   \n",
       "4     21-23     Male    Sophomore   Computer science  Alexandria   \n",
       "\n",
       "  Time Spent Daily Platform AdsFrequency ShoppingPrefrence  \\\n",
       "0       1-3 hours   YouTube            2     Both equally    \n",
       "1       3-5 hours    TikTok            3         In-store    \n",
       "2       1-3 hours    TikTok            3     Both equally    \n",
       "3       3-5 hours    TikTok            4         In-store    \n",
       "4       1-3 hours    TikTok            3         In-store    \n",
       "\n",
       "                                 ShoppingInfluncedBy  ... BrandsEffectOnBrain  \\\n",
       "0           Influencer recommendations ;Brand posts   ...                   3   \n",
       "1                                       Brand posts   ...                   2   \n",
       "2                                      User reviews   ...                   2   \n",
       "3  Influencer recommendations ;User reviews ;Vira...  ...                   3   \n",
       "4                                      User reviews   ...                   3   \n",
       "\n",
       "  AdsMistrust            InfluncersTrust TrustedInfluncer InfluncerField  \\\n",
       "0      Often   Only certain influencers        ahmed sa3d          Food    \n",
       "1  Sometimes                          No              NaN       Fashion    \n",
       "2  Sometimes                          No              NaN              N   \n",
       "3      Often   Only certain influencers            mon3sh          Food    \n",
       "4  Sometimes                          No              NaN          Tech    \n",
       "\n",
       "                            BrandTrustGainingFactors ImprovedExperience  \\\n",
       "0  Real customer reviews;Transparency;Less aggres...                No    \n",
       "1                              Real customer reviews               Yes    \n",
       "2                              Real customer reviews                No    \n",
       "3          Real customer reviews;Less aggressive ads                No    \n",
       "4                                Less aggressive ads                No    \n",
       "\n",
       "        Brand                            MarketingQualityFactors    Thoughts  \n",
       "0  Emma scarf  Trustworthy influencers ;Strong customer servi...         NaN  \n",
       "1          ..                           Strong customer service          NaN  \n",
       "2    B laban                                     Quality of ads          NaN  \n",
       "3      blaban  Quality of ads ;Strong customer service ;Consi...         NaN  \n",
       "4       Golar                           Trustworthy influencers   No thanks   \n",
       "\n",
       "[5 rows x 30 columns]"
      ]
     },
     "execution_count": 89,
     "metadata": {},
     "output_type": "execute_result"
    }
   ],
   "source": [
    "df.columns = ['Age Group', 'Gender', 'Academic Year', 'Major', 'City', 'Time Spent Daily', 'Platform', 'AdsFrequency', 'ShoppingPrefrence', 'ShoppingInfluncedBy', 'SMCausedPurchase', 'SMInfluncingFactor', 'MonthlyBudget', 'OnlineShoppingFrequency', 'LastOnlinePurchase', 'ProductVerification', 'InfluncingFactor', 'AdsEffectOnTrust', 'ImpulsivePurchase', 'ImpulsivePurchaseReason', 'BrandsEffectOnBrain', 'AdsMistrust', 'InfluncersTrust', 'TrustedInfluncer', 'InfluncerField', 'BrandTrustGainingFactors', 'ImprovedExperience', 'Brand', 'MarketingQualityFactors', 'Thoughts']\n",
    "df.head()"
   ]
  },
  {
   "cell_type": "markdown",
   "id": "3d226682",
   "metadata": {},
   "source": [
    "Standardizing text columns format"
   ]
  },
  {
   "cell_type": "code",
   "execution_count": 90,
   "id": "ed48721e",
   "metadata": {},
   "outputs": [
    {
     "data": {
      "text/plain": [
       "array(['Medical', 'Computer science', 'Buisness', 'Biotechnology ',\n",
       "       'Agricultural sciences ', 'Engineering',\n",
       "       'Faculty Of Education, English Department ', 'Anthropology', 'Art',\n",
       "       'Interior design ', 'I would love to keep it for myself',\n",
       "       'School student ', 'tourism management', 'Fine Arts', 'Teaching ',\n",
       "       'High school 😂', 'Tanwea Amaa', 'Science \"Micro / Chem\"',\n",
       "       'School Student', 'Pharmacy ', 'English literature ',\n",
       "       'Political science', 'Language', 'STEM G12😭', 'Arts',\n",
       "       'Tourism & hotels', 'Law', 'Hospitality and tourism management ',\n",
       "       'Science ', 'Oriental languages', 'Education '], dtype=object)"
      ]
     },
     "execution_count": 90,
     "metadata": {},
     "output_type": "execute_result"
    }
   ],
   "source": [
    "df['Major'].unique()"
   ]
  },
  {
   "cell_type": "code",
   "execution_count": 91,
   "id": "17edc226",
   "metadata": {},
   "outputs": [],
   "source": [
    "# a function to standardize text columns based on specific patterns\n",
    "def standardize_text(text, mapping):\n",
    "    text = str(text).strip()\n",
    "    for pattern, standard in mapping.items():\n",
    "        if re.search(pattern, text, flags=re.IGNORECASE):\n",
    "            return standard\n",
    "    return text"
   ]
  },
  {
   "cell_type": "code",
   "execution_count": 92,
   "id": "c17ca4ee",
   "metadata": {},
   "outputs": [
    {
     "data": {
      "text/plain": [
       "array(['Medical', 'Computer science', 'Business', 'Other', 'Engineering',\n",
       "       'Education', 'Arts', 'Fine Arts', 'High School', 'Tourism'],\n",
       "      dtype=object)"
      ]
     },
     "execution_count": 92,
     "metadata": {},
     "output_type": "execute_result"
    }
   ],
   "source": [
    "mapping = {\n",
    "    r'education': 'Education',\n",
    "    r'teach': 'Education',\n",
    "    r'tourism': 'Tourism',\n",
    "    r'languages': 'Arts',\n",
    "    r'school': 'High School',\n",
    "    r'stem': 'High School',\n",
    "    r'ama': 'High School',\n",
    "    r'accounting': 'Business',\n",
    "    r'art': 'Arts',\n",
    "    r'lit': 'Arts',\n",
    "    r'design': 'Fine Arts',\n",
    "    r'ness': 'Business'\n",
    "}\n",
    "df['Major'] = df['Major'].apply(lambda x: standardize_text(x, mapping))\n",
    "standard = ['Computer science', 'Engineering', 'Medical', 'Arts', 'Business', 'Education', 'High School', 'Fine Arts', 'Tourism']\n",
    "df['Major'] = df['Major'].apply(lambda x: x if x in standard else 'Other')\n",
    "df['Major'].unique()"
   ]
  },
  {
   "cell_type": "code",
   "execution_count": 93,
   "id": "35417f01",
   "metadata": {},
   "outputs": [
    {
     "data": {
      "text/plain": [
       "array(['YouTube', 'TikTok', 'Instagram', 'Facebook',\n",
       "       'Discorf and Reddit ', 'youtube too ', 'Whatsapp groups ',\n",
       "       'Twitter/X', 'Whatsapp', 'All of them', 'Tiktok whatsapp ig'],\n",
       "      dtype=object)"
      ]
     },
     "execution_count": 93,
     "metadata": {},
     "output_type": "execute_result"
    }
   ],
   "source": [
    "df['Platform'].unique()"
   ]
  },
  {
   "cell_type": "code",
   "execution_count": 94,
   "id": "986b8720",
   "metadata": {},
   "outputs": [
    {
     "data": {
      "text/plain": [
       "array(['YouTube', 'TikTok', 'Instagram', 'Facebook', 'Other', 'Twitter/X'],\n",
       "      dtype=object)"
      ]
     },
     "execution_count": 94,
     "metadata": {},
     "output_type": "execute_result"
    }
   ],
   "source": [
    "mapping = {\n",
    "    r'whats': 'WhatsApp',\n",
    "    r'pin': 'Pinterest',\n",
    "    r'yotube': 'YouTube'\n",
    "}\n",
    "df['Platform'] = df['Platform'].apply(lambda x: standardize_text(x, mapping))\n",
    "standard = ['YouTube', 'Facebook', 'Twitter/X', 'TikTok', 'Pinterest', 'Instagram']\n",
    "df['Platform'] = df['Platform'].apply(lambda x: x if str(x).strip() in standard else 'Other')\n",
    "df['Platform'].unique()\n"
   ]
  },
  {
   "cell_type": "code",
   "execution_count": null,
   "id": "365c5304",
   "metadata": {},
   "outputs": [],
   "source": [
    "cat_column = ['Age Group', 'Gender', 'Academic Year', 'Major', 'City', 'Time Spent Daily', 'Platform', 'ShoppingPrefrence']\n",
    "\n"
   ]
  },
  {
   "cell_type": "markdown",
   "id": "481993e4",
   "metadata": {},
   "source": [
    "Analyzing multiple-answered questions"
   ]
  },
  {
   "cell_type": "code",
   "execution_count": 95,
   "id": "7cb20e78",
   "metadata": {},
   "outputs": [
    {
     "data": {
      "text/html": [
       "<div>\n",
       "<style scoped>\n",
       "    .dataframe tbody tr th:only-of-type {\n",
       "        vertical-align: middle;\n",
       "    }\n",
       "\n",
       "    .dataframe tbody tr th {\n",
       "        vertical-align: top;\n",
       "    }\n",
       "\n",
       "    .dataframe thead th {\n",
       "        text-align: right;\n",
       "    }\n",
       "</style>\n",
       "<table border=\"1\" class=\"dataframe\">\n",
       "  <thead>\n",
       "    <tr style=\"text-align: right;\">\n",
       "      <th></th>\n",
       "      <th>Influencer recommendations</th>\n",
       "      <th>Paid ads</th>\n",
       "      <th>User reviews</th>\n",
       "      <th>Brand posts</th>\n",
       "      <th>Viral trends</th>\n",
       "    </tr>\n",
       "  </thead>\n",
       "  <tbody>\n",
       "    <tr>\n",
       "      <th>0</th>\n",
       "      <td>1</td>\n",
       "      <td>0</td>\n",
       "      <td>0</td>\n",
       "      <td>1</td>\n",
       "      <td>0</td>\n",
       "    </tr>\n",
       "    <tr>\n",
       "      <th>1</th>\n",
       "      <td>0</td>\n",
       "      <td>0</td>\n",
       "      <td>0</td>\n",
       "      <td>1</td>\n",
       "      <td>0</td>\n",
       "    </tr>\n",
       "    <tr>\n",
       "      <th>2</th>\n",
       "      <td>0</td>\n",
       "      <td>0</td>\n",
       "      <td>1</td>\n",
       "      <td>0</td>\n",
       "      <td>0</td>\n",
       "    </tr>\n",
       "    <tr>\n",
       "      <th>3</th>\n",
       "      <td>1</td>\n",
       "      <td>0</td>\n",
       "      <td>1</td>\n",
       "      <td>0</td>\n",
       "      <td>1</td>\n",
       "    </tr>\n",
       "    <tr>\n",
       "      <th>4</th>\n",
       "      <td>0</td>\n",
       "      <td>0</td>\n",
       "      <td>1</td>\n",
       "      <td>0</td>\n",
       "      <td>0</td>\n",
       "    </tr>\n",
       "  </tbody>\n",
       "</table>\n",
       "</div>"
      ],
      "text/plain": [
       "   Influencer recommendations  Paid ads  User reviews  Brand posts  \\\n",
       "0                           1         0             0            1   \n",
       "1                           0         0             0            1   \n",
       "2                           0         0             1            0   \n",
       "3                           1         0             1            0   \n",
       "4                           0         0             1            0   \n",
       "\n",
       "   Viral trends  \n",
       "0             0  \n",
       "1             0  \n",
       "2             0  \n",
       "3             1  \n",
       "4             0  "
      ]
     },
     "execution_count": 95,
     "metadata": {},
     "output_type": "execute_result"
    }
   ],
   "source": [
    "# Most influncing factor in buying decisions\n",
    "factors = ['Influencer recommendations', 'Paid ads', 'User reviews', 'Brand posts', 'Viral trends']\n",
    "influencing_factors = pd.DataFrame(columns=factors)\n",
    "\n",
    "for factor in factors:\n",
    "    influencing_factors[factor] = df['ShoppingInfluncedBy'].apply(lambda x: 1 if factor in str(x).strip().split(' ;') else 0)\n",
    "influencing_factors.head()"
   ]
  },
  {
   "cell_type": "code",
   "execution_count": 96,
   "id": "d865e5a6",
   "metadata": {},
   "outputs": [
    {
     "name": "stderr",
     "output_type": "stream",
     "text": [
      "c:\\Users\\pc\\anaconda3\\Lib\\site-packages\\plotly\\express\\_core.py:1979: FutureWarning:\n",
      "\n",
      "When grouping with a length-1 list-like, you will need to pass a length-1 tuple to get_group in a future version of pandas. Pass `(name,)` instead of `name` to silence this warning.\n",
      "\n"
     ]
    },
    {
     "data": {
      "application/vnd.plotly.v1+json": {
       "config": {
        "plotlyServerURL": "https://plot.ly"
       },
       "data": [
        {
         "alignmentgroup": "True",
         "hovertemplate": "Influencing Factor=%{x}<br>Number of Respondents=%{text}<extra></extra>",
         "legendgroup": "User reviews",
         "marker": {
          "color": "#636efa",
          "pattern": {
           "shape": ""
          }
         },
         "name": "User reviews",
         "offsetgroup": "User reviews",
         "orientation": "v",
         "showlegend": true,
         "text": [
          146
         ],
         "textposition": "auto",
         "type": "bar",
         "x": [
          "User reviews"
         ],
         "xaxis": "x",
         "y": [
          146
         ],
         "yaxis": "y"
        },
        {
         "alignmentgroup": "True",
         "hovertemplate": "Influencing Factor=%{x}<br>Number of Respondents=%{text}<extra></extra>",
         "legendgroup": "Influencer recommendations",
         "marker": {
          "color": "#EF553B",
          "pattern": {
           "shape": ""
          }
         },
         "name": "Influencer recommendations",
         "offsetgroup": "Influencer recommendations",
         "orientation": "v",
         "showlegend": true,
         "text": [
          65
         ],
         "textposition": "auto",
         "type": "bar",
         "x": [
          "Influencer recommendations"
         ],
         "xaxis": "x",
         "y": [
          65
         ],
         "yaxis": "y"
        },
        {
         "alignmentgroup": "True",
         "hovertemplate": "Influencing Factor=%{x}<br>Number of Respondents=%{text}<extra></extra>",
         "legendgroup": "Brand posts",
         "marker": {
          "color": "#00cc96",
          "pattern": {
           "shape": ""
          }
         },
         "name": "Brand posts",
         "offsetgroup": "Brand posts",
         "orientation": "v",
         "showlegend": true,
         "text": [
          65
         ],
         "textposition": "auto",
         "type": "bar",
         "x": [
          "Brand posts"
         ],
         "xaxis": "x",
         "y": [
          65
         ],
         "yaxis": "y"
        },
        {
         "alignmentgroup": "True",
         "hovertemplate": "Influencing Factor=%{x}<br>Number of Respondents=%{text}<extra></extra>",
         "legendgroup": "Viral trends",
         "marker": {
          "color": "#ab63fa",
          "pattern": {
           "shape": ""
          }
         },
         "name": "Viral trends",
         "offsetgroup": "Viral trends",
         "orientation": "v",
         "showlegend": true,
         "text": [
          38
         ],
         "textposition": "auto",
         "type": "bar",
         "x": [
          "Viral trends"
         ],
         "xaxis": "x",
         "y": [
          38
         ],
         "yaxis": "y"
        },
        {
         "alignmentgroup": "True",
         "hovertemplate": "Influencing Factor=%{x}<br>Number of Respondents=%{text}<extra></extra>",
         "legendgroup": "Paid ads",
         "marker": {
          "color": "#FFA15A",
          "pattern": {
           "shape": ""
          }
         },
         "name": "Paid ads",
         "offsetgroup": "Paid ads",
         "orientation": "v",
         "showlegend": true,
         "text": [
          15
         ],
         "textposition": "auto",
         "type": "bar",
         "x": [
          "Paid ads"
         ],
         "xaxis": "x",
         "y": [
          15
         ],
         "yaxis": "y"
        }
       ],
       "layout": {
        "barmode": "relative",
        "legend": {
         "title": {
          "text": "Influencing Factor"
         },
         "tracegroupgap": 0
        },
        "showlegend": false,
        "template": {
         "data": {
          "bar": [
           {
            "error_x": {
             "color": "#2a3f5f"
            },
            "error_y": {
             "color": "#2a3f5f"
            },
            "marker": {
             "line": {
              "color": "white",
              "width": 0.5
             },
             "pattern": {
              "fillmode": "overlay",
              "size": 10,
              "solidity": 0.2
             }
            },
            "type": "bar"
           }
          ],
          "barpolar": [
           {
            "marker": {
             "line": {
              "color": "white",
              "width": 0.5
             },
             "pattern": {
              "fillmode": "overlay",
              "size": 10,
              "solidity": 0.2
             }
            },
            "type": "barpolar"
           }
          ],
          "carpet": [
           {
            "aaxis": {
             "endlinecolor": "#2a3f5f",
             "gridcolor": "#C8D4E3",
             "linecolor": "#C8D4E3",
             "minorgridcolor": "#C8D4E3",
             "startlinecolor": "#2a3f5f"
            },
            "baxis": {
             "endlinecolor": "#2a3f5f",
             "gridcolor": "#C8D4E3",
             "linecolor": "#C8D4E3",
             "minorgridcolor": "#C8D4E3",
             "startlinecolor": "#2a3f5f"
            },
            "type": "carpet"
           }
          ],
          "choropleth": [
           {
            "colorbar": {
             "outlinewidth": 0,
             "ticks": ""
            },
            "type": "choropleth"
           }
          ],
          "contour": [
           {
            "colorbar": {
             "outlinewidth": 0,
             "ticks": ""
            },
            "colorscale": [
             [
              0,
              "#0d0887"
             ],
             [
              0.1111111111111111,
              "#46039f"
             ],
             [
              0.2222222222222222,
              "#7201a8"
             ],
             [
              0.3333333333333333,
              "#9c179e"
             ],
             [
              0.4444444444444444,
              "#bd3786"
             ],
             [
              0.5555555555555556,
              "#d8576b"
             ],
             [
              0.6666666666666666,
              "#ed7953"
             ],
             [
              0.7777777777777778,
              "#fb9f3a"
             ],
             [
              0.8888888888888888,
              "#fdca26"
             ],
             [
              1,
              "#f0f921"
             ]
            ],
            "type": "contour"
           }
          ],
          "contourcarpet": [
           {
            "colorbar": {
             "outlinewidth": 0,
             "ticks": ""
            },
            "type": "contourcarpet"
           }
          ],
          "heatmap": [
           {
            "colorbar": {
             "outlinewidth": 0,
             "ticks": ""
            },
            "colorscale": [
             [
              0,
              "#0d0887"
             ],
             [
              0.1111111111111111,
              "#46039f"
             ],
             [
              0.2222222222222222,
              "#7201a8"
             ],
             [
              0.3333333333333333,
              "#9c179e"
             ],
             [
              0.4444444444444444,
              "#bd3786"
             ],
             [
              0.5555555555555556,
              "#d8576b"
             ],
             [
              0.6666666666666666,
              "#ed7953"
             ],
             [
              0.7777777777777778,
              "#fb9f3a"
             ],
             [
              0.8888888888888888,
              "#fdca26"
             ],
             [
              1,
              "#f0f921"
             ]
            ],
            "type": "heatmap"
           }
          ],
          "heatmapgl": [
           {
            "colorbar": {
             "outlinewidth": 0,
             "ticks": ""
            },
            "colorscale": [
             [
              0,
              "#0d0887"
             ],
             [
              0.1111111111111111,
              "#46039f"
             ],
             [
              0.2222222222222222,
              "#7201a8"
             ],
             [
              0.3333333333333333,
              "#9c179e"
             ],
             [
              0.4444444444444444,
              "#bd3786"
             ],
             [
              0.5555555555555556,
              "#d8576b"
             ],
             [
              0.6666666666666666,
              "#ed7953"
             ],
             [
              0.7777777777777778,
              "#fb9f3a"
             ],
             [
              0.8888888888888888,
              "#fdca26"
             ],
             [
              1,
              "#f0f921"
             ]
            ],
            "type": "heatmapgl"
           }
          ],
          "histogram": [
           {
            "marker": {
             "pattern": {
              "fillmode": "overlay",
              "size": 10,
              "solidity": 0.2
             }
            },
            "type": "histogram"
           }
          ],
          "histogram2d": [
           {
            "colorbar": {
             "outlinewidth": 0,
             "ticks": ""
            },
            "colorscale": [
             [
              0,
              "#0d0887"
             ],
             [
              0.1111111111111111,
              "#46039f"
             ],
             [
              0.2222222222222222,
              "#7201a8"
             ],
             [
              0.3333333333333333,
              "#9c179e"
             ],
             [
              0.4444444444444444,
              "#bd3786"
             ],
             [
              0.5555555555555556,
              "#d8576b"
             ],
             [
              0.6666666666666666,
              "#ed7953"
             ],
             [
              0.7777777777777778,
              "#fb9f3a"
             ],
             [
              0.8888888888888888,
              "#fdca26"
             ],
             [
              1,
              "#f0f921"
             ]
            ],
            "type": "histogram2d"
           }
          ],
          "histogram2dcontour": [
           {
            "colorbar": {
             "outlinewidth": 0,
             "ticks": ""
            },
            "colorscale": [
             [
              0,
              "#0d0887"
             ],
             [
              0.1111111111111111,
              "#46039f"
             ],
             [
              0.2222222222222222,
              "#7201a8"
             ],
             [
              0.3333333333333333,
              "#9c179e"
             ],
             [
              0.4444444444444444,
              "#bd3786"
             ],
             [
              0.5555555555555556,
              "#d8576b"
             ],
             [
              0.6666666666666666,
              "#ed7953"
             ],
             [
              0.7777777777777778,
              "#fb9f3a"
             ],
             [
              0.8888888888888888,
              "#fdca26"
             ],
             [
              1,
              "#f0f921"
             ]
            ],
            "type": "histogram2dcontour"
           }
          ],
          "mesh3d": [
           {
            "colorbar": {
             "outlinewidth": 0,
             "ticks": ""
            },
            "type": "mesh3d"
           }
          ],
          "parcoords": [
           {
            "line": {
             "colorbar": {
              "outlinewidth": 0,
              "ticks": ""
             }
            },
            "type": "parcoords"
           }
          ],
          "pie": [
           {
            "automargin": true,
            "type": "pie"
           }
          ],
          "scatter": [
           {
            "fillpattern": {
             "fillmode": "overlay",
             "size": 10,
             "solidity": 0.2
            },
            "type": "scatter"
           }
          ],
          "scatter3d": [
           {
            "line": {
             "colorbar": {
              "outlinewidth": 0,
              "ticks": ""
             }
            },
            "marker": {
             "colorbar": {
              "outlinewidth": 0,
              "ticks": ""
             }
            },
            "type": "scatter3d"
           }
          ],
          "scattercarpet": [
           {
            "marker": {
             "colorbar": {
              "outlinewidth": 0,
              "ticks": ""
             }
            },
            "type": "scattercarpet"
           }
          ],
          "scattergeo": [
           {
            "marker": {
             "colorbar": {
              "outlinewidth": 0,
              "ticks": ""
             }
            },
            "type": "scattergeo"
           }
          ],
          "scattergl": [
           {
            "marker": {
             "colorbar": {
              "outlinewidth": 0,
              "ticks": ""
             }
            },
            "type": "scattergl"
           }
          ],
          "scattermapbox": [
           {
            "marker": {
             "colorbar": {
              "outlinewidth": 0,
              "ticks": ""
             }
            },
            "type": "scattermapbox"
           }
          ],
          "scatterpolar": [
           {
            "marker": {
             "colorbar": {
              "outlinewidth": 0,
              "ticks": ""
             }
            },
            "type": "scatterpolar"
           }
          ],
          "scatterpolargl": [
           {
            "marker": {
             "colorbar": {
              "outlinewidth": 0,
              "ticks": ""
             }
            },
            "type": "scatterpolargl"
           }
          ],
          "scatterternary": [
           {
            "marker": {
             "colorbar": {
              "outlinewidth": 0,
              "ticks": ""
             }
            },
            "type": "scatterternary"
           }
          ],
          "surface": [
           {
            "colorbar": {
             "outlinewidth": 0,
             "ticks": ""
            },
            "colorscale": [
             [
              0,
              "#0d0887"
             ],
             [
              0.1111111111111111,
              "#46039f"
             ],
             [
              0.2222222222222222,
              "#7201a8"
             ],
             [
              0.3333333333333333,
              "#9c179e"
             ],
             [
              0.4444444444444444,
              "#bd3786"
             ],
             [
              0.5555555555555556,
              "#d8576b"
             ],
             [
              0.6666666666666666,
              "#ed7953"
             ],
             [
              0.7777777777777778,
              "#fb9f3a"
             ],
             [
              0.8888888888888888,
              "#fdca26"
             ],
             [
              1,
              "#f0f921"
             ]
            ],
            "type": "surface"
           }
          ],
          "table": [
           {
            "cells": {
             "fill": {
              "color": "#EBF0F8"
             },
             "line": {
              "color": "white"
             }
            },
            "header": {
             "fill": {
              "color": "#C8D4E3"
             },
             "line": {
              "color": "white"
             }
            },
            "type": "table"
           }
          ]
         },
         "layout": {
          "annotationdefaults": {
           "arrowcolor": "#2a3f5f",
           "arrowhead": 0,
           "arrowwidth": 1
          },
          "autotypenumbers": "strict",
          "coloraxis": {
           "colorbar": {
            "outlinewidth": 0,
            "ticks": ""
           }
          },
          "colorscale": {
           "diverging": [
            [
             0,
             "#8e0152"
            ],
            [
             0.1,
             "#c51b7d"
            ],
            [
             0.2,
             "#de77ae"
            ],
            [
             0.3,
             "#f1b6da"
            ],
            [
             0.4,
             "#fde0ef"
            ],
            [
             0.5,
             "#f7f7f7"
            ],
            [
             0.6,
             "#e6f5d0"
            ],
            [
             0.7,
             "#b8e186"
            ],
            [
             0.8,
             "#7fbc41"
            ],
            [
             0.9,
             "#4d9221"
            ],
            [
             1,
             "#276419"
            ]
           ],
           "sequential": [
            [
             0,
             "#0d0887"
            ],
            [
             0.1111111111111111,
             "#46039f"
            ],
            [
             0.2222222222222222,
             "#7201a8"
            ],
            [
             0.3333333333333333,
             "#9c179e"
            ],
            [
             0.4444444444444444,
             "#bd3786"
            ],
            [
             0.5555555555555556,
             "#d8576b"
            ],
            [
             0.6666666666666666,
             "#ed7953"
            ],
            [
             0.7777777777777778,
             "#fb9f3a"
            ],
            [
             0.8888888888888888,
             "#fdca26"
            ],
            [
             1,
             "#f0f921"
            ]
           ],
           "sequentialminus": [
            [
             0,
             "#0d0887"
            ],
            [
             0.1111111111111111,
             "#46039f"
            ],
            [
             0.2222222222222222,
             "#7201a8"
            ],
            [
             0.3333333333333333,
             "#9c179e"
            ],
            [
             0.4444444444444444,
             "#bd3786"
            ],
            [
             0.5555555555555556,
             "#d8576b"
            ],
            [
             0.6666666666666666,
             "#ed7953"
            ],
            [
             0.7777777777777778,
             "#fb9f3a"
            ],
            [
             0.8888888888888888,
             "#fdca26"
            ],
            [
             1,
             "#f0f921"
            ]
           ]
          },
          "colorway": [
           "#636efa",
           "#EF553B",
           "#00cc96",
           "#ab63fa",
           "#FFA15A",
           "#19d3f3",
           "#FF6692",
           "#B6E880",
           "#FF97FF",
           "#FECB52"
          ],
          "font": {
           "color": "#2a3f5f"
          },
          "geo": {
           "bgcolor": "white",
           "lakecolor": "white",
           "landcolor": "white",
           "showlakes": true,
           "showland": true,
           "subunitcolor": "#C8D4E3"
          },
          "hoverlabel": {
           "align": "left"
          },
          "hovermode": "closest",
          "mapbox": {
           "style": "light"
          },
          "paper_bgcolor": "white",
          "plot_bgcolor": "white",
          "polar": {
           "angularaxis": {
            "gridcolor": "#EBF0F8",
            "linecolor": "#EBF0F8",
            "ticks": ""
           },
           "bgcolor": "white",
           "radialaxis": {
            "gridcolor": "#EBF0F8",
            "linecolor": "#EBF0F8",
            "ticks": ""
           }
          },
          "scene": {
           "xaxis": {
            "backgroundcolor": "white",
            "gridcolor": "#DFE8F3",
            "gridwidth": 2,
            "linecolor": "#EBF0F8",
            "showbackground": true,
            "ticks": "",
            "zerolinecolor": "#EBF0F8"
           },
           "yaxis": {
            "backgroundcolor": "white",
            "gridcolor": "#DFE8F3",
            "gridwidth": 2,
            "linecolor": "#EBF0F8",
            "showbackground": true,
            "ticks": "",
            "zerolinecolor": "#EBF0F8"
           },
           "zaxis": {
            "backgroundcolor": "white",
            "gridcolor": "#DFE8F3",
            "gridwidth": 2,
            "linecolor": "#EBF0F8",
            "showbackground": true,
            "ticks": "",
            "zerolinecolor": "#EBF0F8"
           }
          },
          "shapedefaults": {
           "line": {
            "color": "#2a3f5f"
           }
          },
          "ternary": {
           "aaxis": {
            "gridcolor": "#DFE8F3",
            "linecolor": "#A2B1C6",
            "ticks": ""
           },
           "baxis": {
            "gridcolor": "#DFE8F3",
            "linecolor": "#A2B1C6",
            "ticks": ""
           },
           "bgcolor": "white",
           "caxis": {
            "gridcolor": "#DFE8F3",
            "linecolor": "#A2B1C6",
            "ticks": ""
           }
          },
          "title": {
           "x": 0.05
          },
          "xaxis": {
           "automargin": true,
           "gridcolor": "#EBF0F8",
           "linecolor": "#EBF0F8",
           "ticks": "",
           "title": {
            "standoff": 15
           },
           "zerolinecolor": "#EBF0F8",
           "zerolinewidth": 2
          },
          "yaxis": {
           "automargin": true,
           "gridcolor": "#EBF0F8",
           "linecolor": "#EBF0F8",
           "ticks": "",
           "title": {
            "standoff": 15
           },
           "zerolinecolor": "#EBF0F8",
           "zerolinewidth": 2
          }
         }
        },
        "title": {
         "text": "Factors Influencing Shopping Decisions"
        },
        "xaxis": {
         "anchor": "y",
         "categoryarray": [
          "User reviews",
          "Influencer recommendations",
          "Brand posts",
          "Viral trends",
          "Paid ads"
         ],
         "categoryorder": "array",
         "domain": [
          0,
          1
         ],
         "title": {
          "text": "Influencing Factor"
         }
        },
        "yaxis": {
         "anchor": "x",
         "domain": [
          0,
          1
         ],
         "title": {
          "text": "Number of Respondents"
         }
        }
       }
      }
     },
     "metadata": {},
     "output_type": "display_data"
    }
   ],
   "source": [
    "total = influencing_factors[influencing_factors.columns].sum().sort_values(ascending=False)\n",
    "totals_df = total.reset_index()\n",
    "totals_df.columns = ['Factor', 'Count']\n",
    "\n",
    "fig = px.bar(\n",
    "    totals_df,\n",
    "    x='Factor',\n",
    "    y='Count',\n",
    "    title='Factors Influencing Shopping Decisions',\n",
    "    text='Count',\n",
    "    labels={'Count': 'Number of Respondents', 'Factor': 'Influencing Factor'},\n",
    "    color='Factor'\n",
    ")\n",
    "\n",
    "fig.update_layout(\n",
    "    showlegend=False,\n",
    "    template='plotly_white'\n",
    ")\n",
    "\n"
   ]
  }
 ],
 "metadata": {
  "kernelspec": {
   "display_name": "base",
   "language": "python",
   "name": "python3"
  },
  "language_info": {
   "codemirror_mode": {
    "name": "ipython",
    "version": 3
   },
   "file_extension": ".py",
   "mimetype": "text/x-python",
   "name": "python",
   "nbconvert_exporter": "python",
   "pygments_lexer": "ipython3",
   "version": "3.11.7"
  }
 },
 "nbformat": 4,
 "nbformat_minor": 5
}
